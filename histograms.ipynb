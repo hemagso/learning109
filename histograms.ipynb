{
 "cells": [
  {
   "cell_type": "code",
   "execution_count": 55,
   "metadata": {
    "collapsed": true
   },
   "outputs": [],
   "source": [
    "import os\n",
    "from skimage import io, exposure\n",
    "\n",
    "def increment_domain(x, y, domain):\n",
    "    exists = defaultdict(int, {key: value for key, value in zip(x,y)})\n",
    "    return [exists[v] for v in domain]\n",
    "\n",
    "def get_dataframe(root_folder):\n",
    "    results = {}\n",
    "    for genre in os.listdir(root_folder):\n",
    "        genre_folder = os.path.join(root_folder,genre)\n",
    "        for manga in os.listdir(genre_folder):\n",
    "            manga_folder = os.path.join(genre_folder,manga)\n",
    "            for page in os.listdir(manga_folder):\n",
    "                page_path = os.path.join(manga_folder,page)\n",
    "                image = io.imread(page_path)\n",
    "                y, x = exposure.histogram(image)\n",
    "                results[(genre, manga, page)] = [genre, manga, page] + increment_domain(x,y,range(0,256))\n",
    "    df = pd.DataFrame.from_dict(results,orient=\"index\")\n",
    "    df.columns = [\"genre\", \"manga\", \"page\"] + list(range(0,256))\n",
    "    return df\n",
    "\n",
    "df_train = get_dataframe(\"./data/train\")\n",
    "df_validate = get_dataframe(\"./data/validate\")"
   ]
  },
  {
   "cell_type": "code",
   "execution_count": 24,
   "metadata": {
    "collapsed": true
   },
   "outputs": [],
   "source": [
    "df_train[\"y\"] = df_train[\"genre\"].apply(lambda v: 1 if \"shounen\" else 0)"
   ]
  },
  {
   "cell_type": "code",
   "execution_count": 25,
   "metadata": {},
   "outputs": [
    {
     "data": {
      "text/html": [
       "<div>\n",
       "<style>\n",
       "    .dataframe thead tr:only-child th {\n",
       "        text-align: right;\n",
       "    }\n",
       "\n",
       "    .dataframe thead th {\n",
       "        text-align: left;\n",
       "    }\n",
       "\n",
       "    .dataframe tbody tr th {\n",
       "        vertical-align: top;\n",
       "    }\n",
       "</style>\n",
       "<table border=\"1\" class=\"dataframe\">\n",
       "  <thead>\n",
       "    <tr style=\"text-align: right;\">\n",
       "      <th></th>\n",
       "      <th>genre</th>\n",
       "      <th>manga</th>\n",
       "      <th>page</th>\n",
       "      <th>0</th>\n",
       "      <th>1</th>\n",
       "      <th>2</th>\n",
       "      <th>3</th>\n",
       "      <th>4</th>\n",
       "      <th>5</th>\n",
       "      <th>6</th>\n",
       "      <th>...</th>\n",
       "      <th>247</th>\n",
       "      <th>248</th>\n",
       "      <th>249</th>\n",
       "      <th>250</th>\n",
       "      <th>251</th>\n",
       "      <th>252</th>\n",
       "      <th>253</th>\n",
       "      <th>254</th>\n",
       "      <th>255</th>\n",
       "      <th>y</th>\n",
       "    </tr>\n",
       "  </thead>\n",
       "  <tbody>\n",
       "    <tr>\n",
       "      <th>(shoujo, AisazuNihaIrarenai, AisazuNihaIrarenai_000_00.jpg)</th>\n",
       "      <td>shoujo</td>\n",
       "      <td>AisazuNihaIrarenai</td>\n",
       "      <td>AisazuNihaIrarenai_000_00.jpg</td>\n",
       "      <td>430</td>\n",
       "      <td>405</td>\n",
       "      <td>579</td>\n",
       "      <td>506</td>\n",
       "      <td>448</td>\n",
       "      <td>396</td>\n",
       "      <td>391</td>\n",
       "      <td>...</td>\n",
       "      <td>1657</td>\n",
       "      <td>1819</td>\n",
       "      <td>2103</td>\n",
       "      <td>2305</td>\n",
       "      <td>2985</td>\n",
       "      <td>3541</td>\n",
       "      <td>4764</td>\n",
       "      <td>5678</td>\n",
       "      <td>15180</td>\n",
       "      <td>1</td>\n",
       "    </tr>\n",
       "    <tr>\n",
       "      <th>(shoujo, AisazuNihaIrarenai, AisazuNihaIrarenai_000_01.jpg)</th>\n",
       "      <td>shoujo</td>\n",
       "      <td>AisazuNihaIrarenai</td>\n",
       "      <td>AisazuNihaIrarenai_000_01.jpg</td>\n",
       "      <td>730</td>\n",
       "      <td>221</td>\n",
       "      <td>242</td>\n",
       "      <td>280</td>\n",
       "      <td>254</td>\n",
       "      <td>221</td>\n",
       "      <td>236</td>\n",
       "      <td>...</td>\n",
       "      <td>1038</td>\n",
       "      <td>1189</td>\n",
       "      <td>1397</td>\n",
       "      <td>1576</td>\n",
       "      <td>1929</td>\n",
       "      <td>2242</td>\n",
       "      <td>2827</td>\n",
       "      <td>3117</td>\n",
       "      <td>6830</td>\n",
       "      <td>1</td>\n",
       "    </tr>\n",
       "    <tr>\n",
       "      <th>(shoujo, AisazuNihaIrarenai, AisazuNihaIrarenai_000_02.jpg)</th>\n",
       "      <td>shoujo</td>\n",
       "      <td>AisazuNihaIrarenai</td>\n",
       "      <td>AisazuNihaIrarenai_000_02.jpg</td>\n",
       "      <td>610</td>\n",
       "      <td>595</td>\n",
       "      <td>641</td>\n",
       "      <td>671</td>\n",
       "      <td>642</td>\n",
       "      <td>532</td>\n",
       "      <td>457</td>\n",
       "      <td>...</td>\n",
       "      <td>1305</td>\n",
       "      <td>1415</td>\n",
       "      <td>1636</td>\n",
       "      <td>2010</td>\n",
       "      <td>2643</td>\n",
       "      <td>3619</td>\n",
       "      <td>5535</td>\n",
       "      <td>7967</td>\n",
       "      <td>27150</td>\n",
       "      <td>1</td>\n",
       "    </tr>\n",
       "    <tr>\n",
       "      <th>(shoujo, AisazuNihaIrarenai, AisazuNihaIrarenai_001_00.jpg)</th>\n",
       "      <td>shoujo</td>\n",
       "      <td>AisazuNihaIrarenai</td>\n",
       "      <td>AisazuNihaIrarenai_001_00.jpg</td>\n",
       "      <td>0</td>\n",
       "      <td>0</td>\n",
       "      <td>0</td>\n",
       "      <td>0</td>\n",
       "      <td>0</td>\n",
       "      <td>0</td>\n",
       "      <td>0</td>\n",
       "      <td>...</td>\n",
       "      <td>189</td>\n",
       "      <td>214</td>\n",
       "      <td>207</td>\n",
       "      <td>257</td>\n",
       "      <td>210</td>\n",
       "      <td>180</td>\n",
       "      <td>184</td>\n",
       "      <td>169</td>\n",
       "      <td>890</td>\n",
       "      <td>1</td>\n",
       "    </tr>\n",
       "    <tr>\n",
       "      <th>(shoujo, AisazuNihaIrarenai, AisazuNihaIrarenai_002_01.jpg)</th>\n",
       "      <td>shoujo</td>\n",
       "      <td>AisazuNihaIrarenai</td>\n",
       "      <td>AisazuNihaIrarenai_002_01.jpg</td>\n",
       "      <td>5832</td>\n",
       "      <td>644</td>\n",
       "      <td>657</td>\n",
       "      <td>607</td>\n",
       "      <td>720</td>\n",
       "      <td>713</td>\n",
       "      <td>631</td>\n",
       "      <td>...</td>\n",
       "      <td>2748</td>\n",
       "      <td>3026</td>\n",
       "      <td>3375</td>\n",
       "      <td>3847</td>\n",
       "      <td>4426</td>\n",
       "      <td>5728</td>\n",
       "      <td>10216</td>\n",
       "      <td>15199</td>\n",
       "      <td>142542</td>\n",
       "      <td>1</td>\n",
       "    </tr>\n",
       "  </tbody>\n",
       "</table>\n",
       "<p>5 rows × 260 columns</p>\n",
       "</div>"
      ],
      "text/plain": [
       "                                                     genre  \\\n",
       "(shoujo, AisazuNihaIrarenai, AisazuNihaIrarenai...  shoujo   \n",
       "(shoujo, AisazuNihaIrarenai, AisazuNihaIrarenai...  shoujo   \n",
       "(shoujo, AisazuNihaIrarenai, AisazuNihaIrarenai...  shoujo   \n",
       "(shoujo, AisazuNihaIrarenai, AisazuNihaIrarenai...  shoujo   \n",
       "(shoujo, AisazuNihaIrarenai, AisazuNihaIrarenai...  shoujo   \n",
       "\n",
       "                                                                 manga  \\\n",
       "(shoujo, AisazuNihaIrarenai, AisazuNihaIrarenai...  AisazuNihaIrarenai   \n",
       "(shoujo, AisazuNihaIrarenai, AisazuNihaIrarenai...  AisazuNihaIrarenai   \n",
       "(shoujo, AisazuNihaIrarenai, AisazuNihaIrarenai...  AisazuNihaIrarenai   \n",
       "(shoujo, AisazuNihaIrarenai, AisazuNihaIrarenai...  AisazuNihaIrarenai   \n",
       "(shoujo, AisazuNihaIrarenai, AisazuNihaIrarenai...  AisazuNihaIrarenai   \n",
       "\n",
       "                                                                             page  \\\n",
       "(shoujo, AisazuNihaIrarenai, AisazuNihaIrarenai...  AisazuNihaIrarenai_000_00.jpg   \n",
       "(shoujo, AisazuNihaIrarenai, AisazuNihaIrarenai...  AisazuNihaIrarenai_000_01.jpg   \n",
       "(shoujo, AisazuNihaIrarenai, AisazuNihaIrarenai...  AisazuNihaIrarenai_000_02.jpg   \n",
       "(shoujo, AisazuNihaIrarenai, AisazuNihaIrarenai...  AisazuNihaIrarenai_001_00.jpg   \n",
       "(shoujo, AisazuNihaIrarenai, AisazuNihaIrarenai...  AisazuNihaIrarenai_002_01.jpg   \n",
       "\n",
       "                                                       0    1    2    3    4  \\\n",
       "(shoujo, AisazuNihaIrarenai, AisazuNihaIrarenai...   430  405  579  506  448   \n",
       "(shoujo, AisazuNihaIrarenai, AisazuNihaIrarenai...   730  221  242  280  254   \n",
       "(shoujo, AisazuNihaIrarenai, AisazuNihaIrarenai...   610  595  641  671  642   \n",
       "(shoujo, AisazuNihaIrarenai, AisazuNihaIrarenai...     0    0    0    0    0   \n",
       "(shoujo, AisazuNihaIrarenai, AisazuNihaIrarenai...  5832  644  657  607  720   \n",
       "\n",
       "                                                      5    6 ...   247   248  \\\n",
       "(shoujo, AisazuNihaIrarenai, AisazuNihaIrarenai...  396  391 ...  1657  1819   \n",
       "(shoujo, AisazuNihaIrarenai, AisazuNihaIrarenai...  221  236 ...  1038  1189   \n",
       "(shoujo, AisazuNihaIrarenai, AisazuNihaIrarenai...  532  457 ...  1305  1415   \n",
       "(shoujo, AisazuNihaIrarenai, AisazuNihaIrarenai...    0    0 ...   189   214   \n",
       "(shoujo, AisazuNihaIrarenai, AisazuNihaIrarenai...  713  631 ...  2748  3026   \n",
       "\n",
       "                                                     249   250   251   252  \\\n",
       "(shoujo, AisazuNihaIrarenai, AisazuNihaIrarenai...  2103  2305  2985  3541   \n",
       "(shoujo, AisazuNihaIrarenai, AisazuNihaIrarenai...  1397  1576  1929  2242   \n",
       "(shoujo, AisazuNihaIrarenai, AisazuNihaIrarenai...  1636  2010  2643  3619   \n",
       "(shoujo, AisazuNihaIrarenai, AisazuNihaIrarenai...   207   257   210   180   \n",
       "(shoujo, AisazuNihaIrarenai, AisazuNihaIrarenai...  3375  3847  4426  5728   \n",
       "\n",
       "                                                      253    254     255  y  \n",
       "(shoujo, AisazuNihaIrarenai, AisazuNihaIrarenai...   4764   5678   15180  1  \n",
       "(shoujo, AisazuNihaIrarenai, AisazuNihaIrarenai...   2827   3117    6830  1  \n",
       "(shoujo, AisazuNihaIrarenai, AisazuNihaIrarenai...   5535   7967   27150  1  \n",
       "(shoujo, AisazuNihaIrarenai, AisazuNihaIrarenai...    184    169     890  1  \n",
       "(shoujo, AisazuNihaIrarenai, AisazuNihaIrarenai...  10216  15199  142542  1  \n",
       "\n",
       "[5 rows x 260 columns]"
      ]
     },
     "execution_count": 25,
     "metadata": {},
     "output_type": "execute_result"
    }
   ],
   "source": [
    "df_train.head()"
   ]
  },
  {
   "cell_type": "code",
   "execution_count": 56,
   "metadata": {},
   "outputs": [
    {
     "name": "stderr",
     "output_type": "stream",
     "text": [
      "C:\\Users\\cake\\AppData\\Local\\conda\\conda\\envs\\lobsang\\lib\\site-packages\\ipykernel_launcher.py:2: SettingWithCopyWarning: \n",
      "A value is trying to be set on a copy of a slice from a DataFrame\n",
      "\n",
      "See the caveats in the documentation: http://pandas.pydata.org/pandas-docs/stable/indexing.html#indexing-view-versus-copy\n",
      "  \n",
      "C:\\Users\\cake\\AppData\\Local\\conda\\conda\\envs\\lobsang\\lib\\site-packages\\ipykernel_launcher.py:5: SettingWithCopyWarning: \n",
      "A value is trying to be set on a copy of a slice from a DataFrame\n",
      "\n",
      "See the caveats in the documentation: http://pandas.pydata.org/pandas-docs/stable/indexing.html#indexing-view-versus-copy\n",
      "  \"\"\"\n"
     ]
    }
   ],
   "source": [
    "df_train['y'] = 0\n",
    "df_train['y'][df_train['genre'] == 'shounen'] = 1\n",
    "\n",
    "df_validate['y'] = 0\n",
    "df_validate['y'][df_validate['genre'] == 'shounen'] = 1\n"
   ]
  },
  {
   "cell_type": "code",
   "execution_count": 75,
   "metadata": {},
   "outputs": [
    {
     "data": {
      "text/plain": [
       "RandomForestClassifier(bootstrap=True, class_weight=None, criterion='gini',\n",
       "            max_depth=None, max_features='auto', max_leaf_nodes=None,\n",
       "            min_impurity_split=1e-07, min_samples_leaf=1,\n",
       "            min_samples_split=2, min_weight_fraction_leaf=0.0,\n",
       "            n_estimators=500, n_jobs=1, oob_score=False, random_state=None,\n",
       "            verbose=0, warm_start=False)"
      ]
     },
     "execution_count": 75,
     "metadata": {},
     "output_type": "execute_result"
    }
   ],
   "source": [
    "from sklearn.ensemble import GradientBoostingClassifier, RandomForestClassifier\n",
    "\n",
    "x_train = df_train.iloc[:,3:-1].values\n",
    "y_train = df_train.loc[:,\"y\"].values\n",
    "\n",
    "clf = RandomForestClassifier(n_estimators=500)\n",
    "clf.fit(x,y)"
   ]
  },
  {
   "cell_type": "code",
   "execution_count": 78,
   "metadata": {},
   "outputs": [],
   "source": [
    "x_validate = df_validate.iloc[:,3:-1].values\n",
    "y_validate = df_validate.loc[:,\"y\"].values\n",
    "pred_validate = clf.predict(x_validate)\n",
    "prob_validate = clf.predict_proba(x_validate)"
   ]
  },
  {
   "cell_type": "code",
   "execution_count": 79,
   "metadata": {},
   "outputs": [
    {
     "data": {
      "text/plain": [
       "0.7503191217768701"
      ]
     },
     "execution_count": 79,
     "metadata": {},
     "output_type": "execute_result"
    }
   ],
   "source": [
    "from sklearn.metrics import accuracy_score, precision_score, recall_score, roc_curve, roc_auc_score\n",
    "accuracy_score(y_validate,pred_validate)"
   ]
  },
  {
   "cell_type": "code",
   "execution_count": 80,
   "metadata": {},
   "outputs": [
    {
     "data": {
      "text/plain": [
       "0.88034865293185416"
      ]
     },
     "execution_count": 80,
     "metadata": {},
     "output_type": "execute_result"
    }
   ],
   "source": [
    "recall_score(y_validate,pred_validate)"
   ]
  },
  {
   "cell_type": "code",
   "execution_count": 81,
   "metadata": {},
   "outputs": [
    {
     "data": {
      "text/plain": [
       "0.81373971396488898"
      ]
     },
     "execution_count": 81,
     "metadata": {},
     "output_type": "execute_result"
    }
   ],
   "source": [
    "roc_auc_score(y_validate,prob_validate[:,1])"
   ]
  },
  {
   "cell_type": "code",
   "execution_count": 82,
   "metadata": {},
   "outputs": [
    {
     "data": {
      "text/plain": [
       "[<matplotlib.lines.Line2D at 0x26bc70a09e8>]"
      ]
     },
     "execution_count": 82,
     "metadata": {},
     "output_type": "execute_result"
    },
    {
     "data": {
      "image/png": "[encoded data removed]",
      "text/plain": [
       "<matplotlib.figure.Figure at 0x26ba8cd3dd8>"
      ]
     },
     "metadata": {},
     "output_type": "display_data"
    }
   ],
   "source": [
    "%matplotlib inline\n",
    "import matplotlib.pyplot as plt\n",
    "fpr, tpr, thresholds = roc_curve(y_validate, prob_validate[:,1])\n",
    "plt.plot(fpr,tpr)"
   ]
  },
  {
   "cell_type": "code",
   "execution_count": null,
   "metadata": {
    "collapsed": true
   },
   "outputs": [],
   "source": []
  }
 ],
 "metadata": {
  "kernelspec": {
   "display_name": "Python 3",
   "language": "python",
   "name": "python3"
  },
  "language_info": {
   "codemirror_mode": {
    "name": "ipython",
    "version": 3
   },
   "file_extension": ".py",
   "mimetype": "text/x-python",
   "name": "python",
   "nbconvert_exporter": "python",
   "pygments_lexer": "ipython3",
   "version": "3.6.1"
  }
 },
 "nbformat": 4,
 "nbformat_minor": 2
}
