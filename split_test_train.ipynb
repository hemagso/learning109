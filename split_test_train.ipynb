{
 "cells": [
  {
   "cell_type": "code",
   "execution_count": 9,
   "metadata": {},
   "outputs": [],
   "source": [
    "import os\n",
    "\n",
    "root_folder = \"./data/slices\"\n",
    "\n",
    "data = []\n",
    "\n",
    "for target in os.listdir(root_folder):\n",
    "    target_folder = os.path.join(root_folder,target)\n",
    "    for title in os.listdir(target_folder):\n",
    "        title_folder = os.path.join(target_folder, title)\n",
    "        for file in os.listdir(title_folder):\n",
    "            data.append({\n",
    "                \"target\" : target,\n",
    "                \"title\" : title,\n",
    "                \"file\" : file,\n",
    "                \"fullpath\" : os.path.join(title_folder,file)\n",
    "            })"
   ]
  },
  {
   "cell_type": "code",
   "execution_count": 14,
   "metadata": {},
   "outputs": [
    {
     "data": {
      "text/html": [
       "<div>\n",
       "<style>\n",
       "    .dataframe thead tr:only-child th {\n",
       "        text-align: right;\n",
       "    }\n",
       "\n",
       "    .dataframe thead th {\n",
       "        text-align: left;\n",
       "    }\n",
       "\n",
       "    .dataframe tbody tr th {\n",
       "        vertical-align: top;\n",
       "    }\n",
       "</style>\n",
       "<table border=\"1\" class=\"dataframe\">\n",
       "  <thead>\n",
       "    <tr style=\"text-align: right;\">\n",
       "      <th></th>\n",
       "      <th>file</th>\n",
       "      <th>fullpath</th>\n",
       "      <th>target</th>\n",
       "      <th>title</th>\n",
       "    </tr>\n",
       "  </thead>\n",
       "  <tbody>\n",
       "    <tr>\n",
       "      <th>0</th>\n",
       "      <td>AosugiruHaru_000_00.jpg</td>\n",
       "      <td>./data/slices\\josei\\AosugiruHaru\\AosugiruHaru_...</td>\n",
       "      <td>josei</td>\n",
       "      <td>AosugiruHaru</td>\n",
       "    </tr>\n",
       "    <tr>\n",
       "      <th>1</th>\n",
       "      <td>AosugiruHaru_000_01.jpg</td>\n",
       "      <td>./data/slices\\josei\\AosugiruHaru\\AosugiruHaru_...</td>\n",
       "      <td>josei</td>\n",
       "      <td>AosugiruHaru</td>\n",
       "    </tr>\n",
       "    <tr>\n",
       "      <th>2</th>\n",
       "      <td>AosugiruHaru_000_02.jpg</td>\n",
       "      <td>./data/slices\\josei\\AosugiruHaru\\AosugiruHaru_...</td>\n",
       "      <td>josei</td>\n",
       "      <td>AosugiruHaru</td>\n",
       "    </tr>\n",
       "    <tr>\n",
       "      <th>3</th>\n",
       "      <td>AosugiruHaru_001_00.jpg</td>\n",
       "      <td>./data/slices\\josei\\AosugiruHaru\\AosugiruHaru_...</td>\n",
       "      <td>josei</td>\n",
       "      <td>AosugiruHaru</td>\n",
       "    </tr>\n",
       "    <tr>\n",
       "      <th>4</th>\n",
       "      <td>AosugiruHaru_001_01.jpg</td>\n",
       "      <td>./data/slices\\josei\\AosugiruHaru\\AosugiruHaru_...</td>\n",
       "      <td>josei</td>\n",
       "      <td>AosugiruHaru</td>\n",
       "    </tr>\n",
       "  </tbody>\n",
       "</table>\n",
       "</div>"
      ],
      "text/plain": [
       "                      file                                           fullpath  \\\n",
       "0  AosugiruHaru_000_00.jpg  ./data/slices\\josei\\AosugiruHaru\\AosugiruHaru_...   \n",
       "1  AosugiruHaru_000_01.jpg  ./data/slices\\josei\\AosugiruHaru\\AosugiruHaru_...   \n",
       "2  AosugiruHaru_000_02.jpg  ./data/slices\\josei\\AosugiruHaru\\AosugiruHaru_...   \n",
       "3  AosugiruHaru_001_00.jpg  ./data/slices\\josei\\AosugiruHaru\\AosugiruHaru_...   \n",
       "4  AosugiruHaru_001_01.jpg  ./data/slices\\josei\\AosugiruHaru\\AosugiruHaru_...   \n",
       "\n",
       "  target         title  \n",
       "0  josei  AosugiruHaru  \n",
       "1  josei  AosugiruHaru  \n",
       "2  josei  AosugiruHaru  \n",
       "3  josei  AosugiruHaru  \n",
       "4  josei  AosugiruHaru  "
      ]
     },
     "execution_count": 14,
     "metadata": {},
     "output_type": "execute_result"
    }
   ],
   "source": [
    "import pandas as pd\n",
    "df = pd.DataFrame.from_dict(data)\n",
    "df.head()"
   ]
  },
  {
   "cell_type": "code",
   "execution_count": 21,
   "metadata": {},
   "outputs": [],
   "source": [
    "from sklearn.model_selection import train_test_split\n",
    "\n",
    "df_split = {}\n",
    "\n",
    "df_temp, df_split[\"validate\"] = train_test_split(df, test_size=0.1, random_state=42)\n",
    "df_split[\"train\"], df_split[\"test\"] = train_test_split(df_temp, test_size=0.2/0.9, random_state=42)"
   ]
  },
  {
   "cell_type": "code",
   "execution_count": 35,
   "metadata": {},
   "outputs": [],
   "source": [
    "from shutil import copyfile\n",
    "\n",
    "folders = {\n",
    "    #\"train\" : \"./data/train\",\n",
    "    #\"validate\" : \"./data/validate\",\n",
    "    \"test\" : \"./data/test\"\n",
    "}\n",
    "\n",
    "for kind in folders.keys():\n",
    "    for idx, row in df_split[kind].iterrows():\n",
    "        old_path = row[\"fullpath\"]\n",
    "        new_folder = os.path.join(folders[kind],row[\"target\"],row[\"title\"])\n",
    "        new_path = os.path.join(new_folder,row[\"file\"])\n",
    "        if not os.path.exists(new_folder):\n",
    "            os.makedirs(new_folder)\n",
    "        copyfile(old_path,new_path)"
   ]
  },
  {
   "cell_type": "code",
   "execution_count": null,
   "metadata": {
    "collapsed": true
   },
   "outputs": [],
   "source": []
  }
 ],
 "metadata": {
  "kernelspec": {
   "display_name": "Python 3",
   "language": "python",
   "name": "python3"
  },
  "language_info": {
   "codemirror_mode": {
    "name": "ipython",
    "version": 3
   },
   "file_extension": ".py",
   "mimetype": "text/x-python",
   "name": "python",
   "nbconvert_exporter": "python",
   "pygments_lexer": "ipython3",
   "version": "3.6.1"
  }
 },
 "nbformat": 4,
 "nbformat_minor": 2
}
